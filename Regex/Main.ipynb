{
 "cells": [
  {
   "cell_type": "code",
   "execution_count": null,
   "metadata": {},
   "outputs": [],
   "source": [
    "assert re_parse('') is None\n",
    "assert re_parse('.') == 'dot'\n",
    "assert re_parse('a') == 'a'\n",
    "assert re_parse('ab') == ('cat', 'a', 'b')\n",
    "assert re_parse('a|b') == ('split', 'a', 'b')\n",
    "assert re_parse('a+') == ('repeat', 'a', 1, float('inf'))\n",
    "assert re_parse('a{3,6}') == ('repeat', 'a', 3, 6)\n",
    "assert re_parse('a|bc') == ('split', 'a', ('cat', 'b', 'c'))"
   ]
  },
  {
   "cell_type": "code",
   "execution_count": null,
   "metadata": {},
   "outputs": [],
   "source": []
  }
 ],
 "metadata": {
  "kernelspec": {
   "display_name": "Python 3",
   "language": "python",
   "name": "python3"
  },
  "language_info": {
   "codemirror_mode": {
    "name": "ipython",
    "version": 3
   },
   "file_extension": ".py",
   "mimetype": "text/x-python",
   "name": "python",
   "nbconvert_exporter": "python",
   "pygments_lexer": "ipython3",
   "version": "3.12.2"
  }
 },
 "nbformat": 4,
 "nbformat_minor": 2
}
